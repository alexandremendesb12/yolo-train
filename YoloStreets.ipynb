{
  "nbformat": 4,
  "nbformat_minor": 0,
  "metadata": {
    "colab": {
      "provenance": [],
      "gpuType": "T4",
      "authorship_tag": "ABX9TyPfBSpnd/a9UnKg+XlmjSK6",
      "include_colab_link": true
    },
    "kernelspec": {
      "name": "python3",
      "display_name": "Python 3"
    },
    "language_info": {
      "name": "python"
    },
    "accelerator": "GPU"
  },
  "cells": [
    {
      "cell_type": "markdown",
      "metadata": {
        "id": "view-in-github",
        "colab_type": "text"
      },
      "source": [
        "<a href=\"https://colab.research.google.com/github/alexandremendesb12/yolo-train/blob/main/YoloStreets.ipynb\" target=\"_parent\"><img src=\"https://colab.research.google.com/assets/colab-badge.svg\" alt=\"Open In Colab\"/></a>"
      ]
    },
    {
      "cell_type": "code",
      "execution_count": 24,
      "metadata": {
        "id": "NiDCO19jc2HK"
      },
      "outputs": [],
      "source": [
        "%mkdir develop\n",
        "%cd develop"
      ]
    },
    {
      "cell_type": "code",
      "source": [
        "!git clone https://github.com/alexandremendesb12/yolo-train.git\n",
        "%cd yolo-train/"
      ],
      "metadata": {
        "id": "wcyxOnVrdZGW"
      },
      "execution_count": 24,
      "outputs": []
    },
    {
      "cell_type": "code",
      "source": [
        "!git clone https://github.com/EscVM/OIDv4_ToolKit.git\n",
        "%cd OIDv4_ToolKit/"
      ],
      "metadata": {
        "id": "-aJV-tKLGlB9"
      },
      "execution_count": 24,
      "outputs": []
    },
    {
      "cell_type": "code",
      "source": [
        "!python3 main.py downloader --classes Ambulance Bus Car Motorcycle Truck Person --limit 1000 --type_csv train"
      ],
      "metadata": {
        "id": "P5Nvr9cdKSQw"
      },
      "execution_count": null,
      "outputs": []
    },
    {
      "cell_type": "code",
      "source": [
        "!python3 main.py downloader --classes Ambulance Bus Car Motorcycle Truck Person --limit 200 --type_csv  validation"
      ],
      "metadata": {
        "id": "bOoeCkJcJakS"
      },
      "execution_count": null,
      "outputs": []
    },
    {
      "cell_type": "code",
      "source": [
        "%cd ..\n",
        "!git clone https://github.com/ultralytics/yolov5.git\n",
        "%cd OIDv4_ToolKit/"
      ],
      "metadata": {
        "id": "uOpszg8AQJGz"
      },
      "execution_count": 24,
      "outputs": []
    },
    {
      "cell_type": "code",
      "source": [
        "!git clone https://gist.github.com/b6e5d60343c88f358742aa9e0de2cc3f.git"
      ],
      "metadata": {
        "id": "GDOQpLpNQjeN"
      },
      "execution_count": null,
      "outputs": []
    },
    {
      "cell_type": "code",
      "source": [
        "!python3 b6e5d60343c88f358742aa9e0de2cc3f/oid_to_yolo.py --voc_dir /develop/yolo-train/dataset/test --yolo_dir /develop/yolo-train/dataset/train"
      ],
      "metadata": {
        "id": "_sPFJAaKPzq4"
      },
      "execution_count": null,
      "outputs": []
    },
    {
      "cell_type": "code",
      "source": [
        "%cd ..\n",
        "%cd yolov5/"
      ],
      "metadata": {
        "id": "eZC03Gg7Kkpe"
      },
      "execution_count": null,
      "outputs": []
    },
    {
      "cell_type": "code",
      "source": [
        "!python3 train.py --img 640 --batch 48 --epochs 10 --data ../dataset/data.yaml --weights yolov5s.pt --cache"
      ],
      "metadata": {
        "id": "wWquefH-dzcW"
      },
      "execution_count": 22,
      "outputs": []
    },
    {
      "cell_type": "code",
      "source": [
        "import cv2\n",
        "import torch\n",
        "\n",
        "def draw_boxes(img, results):\n",
        "    for *box, conf, cls in results.xyxy[0].cpu().numpy():\n",
        "        x1, y1, x2, y2 = map(int, box)\n",
        "        label = f'{results.names[int(cls)]} {conf:.2f}'\n",
        "        img = cv2.rectangle(img, (x1, y1), (x2, y2), (0, 255, 0), 2)\n",
        "        img = cv2.putText(img, label, (x1, y1 - 10), cv2.FONT_HERSHEY_SIMPLEX, 0.5, (0, 255, 0), 2)\n",
        "    return img\n",
        "\n",
        "def load_model(weights_path):\n",
        "    model = torch.hub.load('ultralytics/yolov5', 'custom', path=weights_path)\n",
        "    model.eval()\n",
        "    return model\n",
        "\n",
        "def run_inference_on_video(model, video_path, output_path):\n",
        "\n",
        "    cap = cv2.VideoCapture(video_path)\n",
        "    if not cap.isOpened():\n",
        "        print(\"Erro ao abrir o vídeo.\")\n",
        "        return\n",
        "\n",
        "    fourcc = cv2.VideoWriter_fourcc(*'XVID')\n",
        "    fps = int(cap.get(cv2.CAP_PROP_FPS))\n",
        "    width  = int(cap.get(cv2.CAP_PROP_FRAME_WIDTH))\n",
        "    height = int(cap.get(cv2.CAP_PROP_FRAME_HEIGHT))\n",
        "\n",
        "    out = cv2.VideoWriter(output_path, fourcc, fps, (width, height))\n",
        "\n",
        "    while True:\n",
        "        ret, frame = cap.read()\n",
        "        if not ret:\n",
        "            break\n",
        "\n",
        "        img_rgb = cv2.cvtColor(frame, cv2.COLOR_BGR2RGB)\n",
        "        results = model(img_rgb)\n",
        "\n",
        "        img_result = draw_boxes(frame, results)\n",
        "\n",
        "        out.write(img_result)\n",
        "\n",
        "    cap.release()\n",
        "    out.release()\n",
        "    cv2.destroyAllWindows()\n",
        "\n",
        "if __name__ == \"__main__\":\n",
        "\n",
        "    weights_path = '/develop/yolo-train/yolov5/runs/train/exp/weights/best.pt'\n",
        "    video_path = '../videos/origin.mp4'\n",
        "    output_path = '../videos/output_video.mp4'\n",
        "\n",
        "    model = load_model(weights_path)\n",
        "\n",
        "    run_inference_on_video(model, video_path, output_path)\n"
      ],
      "metadata": {
        "id": "Etd6SX36mvvl"
      },
      "execution_count": 24,
      "outputs": []
    }
  ]
}